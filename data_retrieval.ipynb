{
 "cells": [
  {
   "cell_type": "code",
   "execution_count": null,
   "metadata": {
    "id": "XeFsiSp2aDL6"
   },
   "outputs": [],
   "source": [
    "import ee\n",
    "\n",
    "# Trigger the authentication flow.\n",
    "ee.Authenticate()\n",
    "\n",
    "# Initialize the library.\n",
    "ee.Initialize()"
   ]
  },
  {
   "cell_type": "code",
   "execution_count": 215,
   "metadata": {},
   "outputs": [],
   "source": [
    "import io\n",
    "import requests\n",
    "import numpy as np\n",
    "from PIL import Image\n",
    "from scipy import ndimage, misc"
   ]
  },
  {
   "cell_type": "code",
   "execution_count": null,
   "metadata": {},
   "outputs": [],
   "source": [
    "lly = 51.65238122272299\n",
    "llx = 6.319560239611333\n",
    "ury = 51.77703215567637\n",
    "urx = 6.53310699254102\n",
    "geometry = ee.Geometry.Rectangle([llx, lly, urx, ury], None, False)"
   ]
  },
  {
   "cell_type": "code",
   "execution_count": 218,
   "metadata": {},
   "outputs": [],
   "source": [
    "def getNDVI(image):\n",
    "    # Normalized difference vegetation index (NDVI)\n",
    "    ndvi = image.normalizedDifference(['B8','B4']).rename(\"NDVI\")\n",
    "    image = image.addBands(ndvi)\n",
    "    return(image)\n",
    "\n",
    "def addDate(image):\n",
    "    img_date = ee.Date(image.date())\n",
    "    img_date = ee.Number.parse(img_date.format('YYYYMMdd'))\n",
    "    return image.addBands(ee.Image(img_date).rename('date').toInt())"
   ]
  },
  {
   "cell_type": "code",
   "execution_count": 235,
   "metadata": {},
   "outputs": [],
   "source": [
    "collection = (ee.ImageCollection(\"COPERNICUS/S2\")\n",
    "              # Select the Red, Green and Blue image bands, as well as the cloud masking layer.\n",
    "              .select(['B4', 'B3', 'B2', 'B8'])\n",
    "              # Filter for images within a given date range.\n",
    "              .filterDate('2017-06-01', '2021-08-31')\n",
    "              # Filter for images that overlap with the assigned geometry.\n",
    "              .filterBounds(geometry)\n",
    "              # Filter for images that have less then 20% cloud coverage.\n",
    "              .filter(ee.Filter.lt('CLOUDY_PIXEL_PERCENTAGE', 30))\n",
    "              .sort('CLOUDY_PIXEL_PERCENTAGE')\n",
    "              .map(getNDVI)\n",
    "              .map(addDate))"
   ]
  },
  {
   "cell_type": "code",
   "execution_count": 236,
   "metadata": {},
   "outputs": [
    {
     "name": "stdout",
     "output_type": "stream",
     "text": [
      "Number of images: 343\n"
     ]
    }
   ],
   "source": [
    "collection_size = collection.size().getInfo()\n",
    "print(\"Number of images:\", collection_size)"
   ]
  },
  {
   "cell_type": "code",
   "execution_count": null,
   "metadata": {},
   "outputs": [],
   "source": [
    "collection_list = collection.toList(collection.size())\n",
    "date_list = []\n",
    "water_data = []\n",
    "\n",
    "for index in range(collection_size):           \n",
    "    image = ee.Image(collection_list.get(index))\n",
    "    # Get image date\n",
    "    date_url = image.getDownloadUrl({'bands': ['date'], 'region': geometry, 'scale': 10, 'format': 'NPY'})\n",
    "    date_response = requests.get(date_url)\n",
    "    date = np.load(io.BytesIO(date_response.content)).astype(np.int)[0][0]\n",
    "    if date in date_list:\n",
    "        continue\n",
    "    date_list.append(date)\n",
    "    # Get RGB image respon\n",
    "    url = image.getThumbUrl({\"min\": 0.0, \"max\": 2000, \"bands\": ['B4', 'B3', 'B2'], \"region\": geometry, \"scale\": 10, \"format\": 'png'})\n",
    "    response = requests.get(url)\n",
    "    rgb_image = Image.open(io.BytesIO(response.content)).convert(\"RGB\")\n",
    "    # Get NDVI layer\n",
    "    nvid_url = image.getDownloadUrl({'bands': ['NDVI'], 'region': geometry, 'scale': 10, 'format': 'NPY'})\n",
    "    nvid_response = requests.get(nvid_url)\n",
    "    data = np.load(io.BytesIO(nvid_response.content)).astype(np.float)\n",
    "    # Process NDVI\n",
    "    threshold = 0\n",
    "    data[data > threshold] = 0\n",
    "    data[data < threshold] = 1\n",
    "    data = ndimage.maximum_filter(data, size=3)\n",
    "    roi = 400 \n",
    "    data = data[roi:-roi, roi:-roi]\n",
    "    water_pixels = np.count_nonzero(data)\n",
    "    nvid_image = Image.fromarray((data*255).astype(np.uint8))\n",
    "    \n",
    "    nvid_image.convert(\"L\").save(f\"river/nvid_segmented_river_{date}_water_pixels_{water_pixels}.png\")\n",
    "    rgb_image.save(f\"river/image_{date}_water_pixels_{water_pixels}.png\")\n",
    "\n",
    "print(date_list)\n",
    "print(water_data)"
   ]
  },
  {
   "cell_type": "code",
   "execution_count": 138,
   "metadata": {},
   "outputs": [],
   "source": [
    "tile = collection.first()"
   ]
  },
  {
   "cell_type": "code",
   "execution_count": 137,
   "metadata": {},
   "outputs": [
    {
     "name": "stdout",
     "output_type": "stream",
     "text": [
      "https://earthengine.googleapis.com/v1alpha/projects/earthengine-legacy/thumbnails/a4e9e7c536b84b4c25c9ff97994337dc-1550b3a4e387976dd9601413c6fc86ad:getPixels\n",
      "\n",
      "Please wait while the thumbnail loads, it may take a moment...\n"
     ]
    },
    {
     "data": {
      "text/html": [
       "<img src=\"https://earthengine.googleapis.com/v1alpha/projects/earthengine-legacy/thumbnails/a4e9e7c536b84b4c25c9ff97994337dc-1550b3a4e387976dd9601413c6fc86ad:getPixels\"/>"
      ],
      "text/plain": [
       "<IPython.core.display.Image object>"
      ]
     },
     "execution_count": 137,
     "metadata": {},
     "output_type": "execute_result"
    }
   ],
   "source": [
    "from IPython.display import Image\n",
    "\n",
    "# Create a URL to the styled image for a region around France.\n",
    "url = tile.getThumbUrl({\"min\": 0.0, \"max\": 2000, \"bands\": ['B4', 'B3', 'B2'], \"region\": geometry, \"scale\": 10, \"format\": 'png'})\n",
    "print(url)\n",
    "\n",
    "# Display the thumbnail land surface temperature in France.\n",
    "print('\\nPlease wait while the thumbnail loads, it may take a moment...')\n",
    "Image(url=url)"
   ]
  }
 ],
 "metadata": {
  "colab": {
   "collapsed_sections": [],
   "name": "An Intro to the Earth Engine Python API",
   "provenance": []
  },
  "kernelspec": {
   "display_name": "Python 3",
   "language": "python",
   "name": "python3"
  },
  "language_info": {
   "codemirror_mode": {
    "name": "ipython",
    "version": 3
   },
   "file_extension": ".py",
   "mimetype": "text/x-python",
   "name": "python",
   "nbconvert_exporter": "python",
   "pygments_lexer": "ipython3",
   "version": "3.8.5"
  }
 },
 "nbformat": 4,
 "nbformat_minor": 1
}
